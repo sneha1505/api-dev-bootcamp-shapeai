{
  "nbformat": 4,
  "nbformat_minor": 0,
  "metadata": {
    "colab": {
      "name": "python workshop",
      "provenance": [],
      "authorship_tag": "ABX9TyOj6DO59IpvE2pqASZ/06zx",
      "include_colab_link": true
    },
    "kernelspec": {
      "name": "python3",
      "display_name": "Python 3"
    },
    "language_info": {
      "name": "python"
    }
  },
  "cells": [
    {
      "cell_type": "markdown",
      "metadata": {
        "id": "view-in-github",
        "colab_type": "text"
      },
      "source": [
        "<a href=\"https://colab.research.google.com/github/sneha1505/api-dev-bootcamp-shapeai/blob/main/python_workshop.ipynb\" target=\"_parent\"><img src=\"https://colab.research.google.com/assets/colab-badge.svg\" alt=\"Open In Colab\"/></a>"
      ]
    },
    {
      "cell_type": "code",
      "metadata": {
        "colab": {
          "base_uri": "https://localhost:8080/"
        },
        "id": "Ym74SQksTsyf",
        "outputId": "5e7505fa-053e-4609-e1d2-97f38524ad3c"
      },
      "source": [
        "print( \"hello world\")\n",
        "\n",
        "\n",
        "n=9\n",
        "print(n)"
      ],
      "execution_count": 6,
      "outputs": [
        {
          "output_type": "stream",
          "text": [
            "hello world\n",
            "9\n"
          ],
          "name": "stdout"
        }
      ]
    },
    {
      "cell_type": "code",
      "metadata": {
        "colab": {
          "base_uri": "https://localhost:8080/"
        },
        "id": "U8jm_6ImVOov",
        "outputId": "e09e4db6-f6d2-498b-a9c6-8a953fb112cd"
      },
      "source": [
        "age=15\n",
        "if age>=18 :\n",
        "  print(\"You are eligible to vote\")\n",
        "else:\n",
        "    print(\"not eligible\")\n",
        "    print(\"inside else\")"
      ],
      "execution_count": 9,
      "outputs": [
        {
          "output_type": "stream",
          "text": [
            "not eligible\n",
            "inside else\n"
          ],
          "name": "stdout"
        }
      ]
    },
    {
      "cell_type": "code",
      "metadata": {
        "colab": {
          "base_uri": "https://localhost:8080/"
        },
        "id": "8MeiAOb6WltK",
        "outputId": "25e873cd-f67d-47b3-b5ca-6e7293b60af3"
      },
      "source": [
        "i=0\n",
        "while i<=10:\n",
        "  print(i, end=\"  \")\n",
        "  i+=1"
      ],
      "execution_count": 11,
      "outputs": [
        {
          "output_type": "stream",
          "text": [
            "0  1  2  3  4  5  6  7  8  9  10  "
          ],
          "name": "stdout"
        }
      ]
    },
    {
      "cell_type": "code",
      "metadata": {
        "colab": {
          "base_uri": "https://localhost:8080/"
        },
        "id": "06TRWezoXM2z",
        "outputId": "24773f4e-11f6-41f5-ba69-a87b7f83466f"
      },
      "source": [
        "for ele in range(1,20):\n",
        "  print(ele)"
      ],
      "execution_count": 12,
      "outputs": [
        {
          "output_type": "stream",
          "text": [
            "1\n",
            "2\n",
            "3\n",
            "4\n",
            "5\n",
            "6\n",
            "7\n",
            "8\n",
            "9\n",
            "10\n",
            "11\n",
            "12\n",
            "13\n",
            "14\n",
            "15\n",
            "16\n",
            "17\n",
            "18\n",
            "19\n"
          ],
          "name": "stdout"
        }
      ]
    },
    {
      "cell_type": "code",
      "metadata": {
        "id": "oJJjQJ0_XmyK"
      },
      "source": [
        "def is_even(number):\n",
        "  if number%2==0:\n",
        "    return true\n",
        "  else:\n",
        "    return false"
      ],
      "execution_count": 13,
      "outputs": []
    },
    {
      "cell_type": "code",
      "metadata": {
        "colab": {
          "base_uri": "https://localhost:8080/"
        },
        "id": "SGT1ZBf9YZNT",
        "outputId": "4a211f55-339a-4cf9-a02b-f99a858b68ac"
      },
      "source": [
        "s1= \"hello world\"\n",
        "print(s1)"
      ],
      "execution_count": 14,
      "outputs": [
        {
          "output_type": "stream",
          "text": [
            "hello world\n"
          ],
          "name": "stdout"
        }
      ]
    },
    {
      "cell_type": "code",
      "metadata": {
        "colab": {
          "base_uri": "https://localhost:8080/"
        },
        "id": "dOfoHK6mY76G",
        "outputId": "3f23bcb3-7871-4fad-cfe1-729fff67e8d6"
      },
      "source": [
        "print(s1[0])\n",
        "print(s1[4])\n",
        "print(s1[-1])\n",
        "print(s1[-2])"
      ],
      "execution_count": 20,
      "outputs": [
        {
          "output_type": "stream",
          "text": [
            "h\n",
            "o\n",
            "d\n",
            "l\n"
          ],
          "name": "stdout"
        }
      ]
    },
    {
      "cell_type": "code",
      "metadata": {
        "colab": {
          "base_uri": "https://localhost:8080/"
        },
        "id": "wf3OBAVoZR33",
        "outputId": "6073ee3e-7d04-4239-ecbb-3733025d791f"
      },
      "source": [
        "print(s1)"
      ],
      "execution_count": 21,
      "outputs": [
        {
          "output_type": "stream",
          "text": [
            "hello world\n"
          ],
          "name": "stdout"
        }
      ]
    },
    {
      "cell_type": "code",
      "metadata": {
        "colab": {
          "base_uri": "https://localhost:8080/",
          "height": 35
        },
        "id": "oHCE4VQiaP_z",
        "outputId": "268a5a2a-c861-4114-982e-e2e9db485133"
      },
      "source": [
        "#slicing\n",
        "#syntax:str[ start_idx:end_idx +1]\n",
        "s1[2:5]"
      ],
      "execution_count": 22,
      "outputs": [
        {
          "output_type": "execute_result",
          "data": {
            "application/vnd.google.colaboratory.intrinsic+json": {
              "type": "string"
            },
            "text/plain": [
              "'llo'"
            ]
          },
          "metadata": {
            "tags": []
          },
          "execution_count": 22
        }
      ]
    },
    {
      "cell_type": "code",
      "metadata": {
        "colab": {
          "base_uri": "https://localhost:8080/",
          "height": 35
        },
        "id": "RY7pE_0Ka1tO",
        "outputId": "e1d43ae5-fab0-437f-a889-77a1e91e2ebd"
      },
      "source": [
        "s1[6:10]"
      ],
      "execution_count": 23,
      "outputs": [
        {
          "output_type": "execute_result",
          "data": {
            "application/vnd.google.colaboratory.intrinsic+json": {
              "type": "string"
            },
            "text/plain": [
              "'worl'"
            ]
          },
          "metadata": {
            "tags": []
          },
          "execution_count": 23
        }
      ]
    },
    {
      "cell_type": "code",
      "metadata": {
        "colab": {
          "base_uri": "https://localhost:8080/"
        },
        "id": "pTW1Rt0NbAu3",
        "outputId": "bacfd14a-42f6-44f2-b826-9a2408c9a4f4"
      },
      "source": [
        "lst=[6,8,2,10,4]\n",
        "print(lst[0])\n",
        "print(lst[-1])"
      ],
      "execution_count": 24,
      "outputs": [
        {
          "output_type": "stream",
          "text": [
            "6\n",
            "4\n"
          ],
          "name": "stdout"
        }
      ]
    },
    {
      "cell_type": "code",
      "metadata": {
        "colab": {
          "base_uri": "https://localhost:8080/"
        },
        "id": "Sz0F6dhzb1fS",
        "outputId": "145bc72e-75b5-46dd-ae7b-fbf31dfb0848"
      },
      "source": [
        "lst.append(100)\n",
        "print(lst)"
      ],
      "execution_count": 26,
      "outputs": [
        {
          "output_type": "stream",
          "text": [
            "[6, 8, 2, 10, 4, 100]\n"
          ],
          "name": "stdout"
        }
      ]
    },
    {
      "cell_type": "code",
      "metadata": {
        "colab": {
          "base_uri": "https://localhost:8080/"
        },
        "id": "f_TjNCwub__S",
        "outputId": "182822d2-adc1-4b25-8769-1b4cfee53939"
      },
      "source": [
        "for k in lst:\n",
        "  print(k*2)"
      ],
      "execution_count": 27,
      "outputs": [
        {
          "output_type": "stream",
          "text": [
            "12\n",
            "16\n",
            "4\n",
            "20\n",
            "8\n",
            "200\n"
          ],
          "name": "stdout"
        }
      ]
    },
    {
      "cell_type": "markdown",
      "metadata": {
        "id": "r44pDRthcqav"
      },
      "source": [
        "### new dictionary\n"
      ]
    },
    {
      "cell_type": "code",
      "metadata": {
        "id": "hKFp-anSco7t"
      },
      "source": [
        "canteen_menu={\n",
        "    \"samosa\":10,\n",
        "    \"pizza\":100,\n",
        "    \"burger\":75\n",
        "}"
      ],
      "execution_count": 30,
      "outputs": []
    },
    {
      "cell_type": "code",
      "metadata": {
        "colab": {
          "base_uri": "https://localhost:8080/"
        },
        "id": "P1BnXkjGddCu",
        "outputId": "3841fb6e-23ba-43af-c358-2ec636f8c3de"
      },
      "source": [
        "print(canteen_menu)"
      ],
      "execution_count": 31,
      "outputs": [
        {
          "output_type": "stream",
          "text": [
            "{'samosa': 10, 'pizza': 100, 'burger': 75}\n"
          ],
          "name": "stdout"
        }
      ]
    },
    {
      "cell_type": "code",
      "metadata": {
        "colab": {
          "base_uri": "https://localhost:8080/"
        },
        "id": "QZ7fvyX9dsX2",
        "outputId": "0ecc04ae-134a-40bb-9c90-157d45a88634"
      },
      "source": [
        "canteen_menu['burger']"
      ],
      "execution_count": 33,
      "outputs": [
        {
          "output_type": "execute_result",
          "data": {
            "text/plain": [
              "75"
            ]
          },
          "metadata": {
            "tags": []
          },
          "execution_count": 33
        }
      ]
    },
    {
      "cell_type": "code",
      "metadata": {
        "id": "DmO-sbkdd-Lc"
      },
      "source": [
        "canteen_menu.get('juice')"
      ],
      "execution_count": 34,
      "outputs": []
    },
    {
      "cell_type": "code",
      "metadata": {
        "id": "vnz31-nXd-IC"
      },
      "source": [
        "canteen_menu['juice']=[20,30,45]"
      ],
      "execution_count": 35,
      "outputs": []
    },
    {
      "cell_type": "code",
      "metadata": {
        "colab": {
          "base_uri": "https://localhost:8080/"
        },
        "id": "bce6Lw5aeTW_",
        "outputId": "2c28ca24-b6a9-498c-b36b-a70e4d842bfd"
      },
      "source": [
        "print(canteen_menu)"
      ],
      "execution_count": 36,
      "outputs": [
        {
          "output_type": "stream",
          "text": [
            "{'samosa': 10, 'pizza': 100, 'burger': 75, 'juice': [20, 30, 45]}\n"
          ],
          "name": "stdout"
        }
      ]
    },
    {
      "cell_type": "code",
      "metadata": {
        "colab": {
          "base_uri": "https://localhost:8080/"
        },
        "id": "Bm0rg6mieYJ7",
        "outputId": "3d3dea35-3f92-4dc7-cad5-e931718b3a35"
      },
      "source": [
        "canteen_menu['juice'][-1]"
      ],
      "execution_count": 37,
      "outputs": [
        {
          "output_type": "execute_result",
          "data": {
            "text/plain": [
              "45"
            ]
          },
          "metadata": {
            "tags": []
          },
          "execution_count": 37
        }
      ]
    },
    {
      "cell_type": "code",
      "metadata": {
        "id": "gPFo5IHNefcv"
      },
      "source": [
        "canteen_menu['fruits']={'mango':30, \n",
        "                        'apple':40,\n",
        "                        'kiwi':100\n",
        "                        }"
      ],
      "execution_count": 38,
      "outputs": []
    },
    {
      "cell_type": "code",
      "metadata": {
        "colab": {
          "base_uri": "https://localhost:8080/"
        },
        "id": "SxCjrNAce_jf",
        "outputId": "d5bf0f0a-1dab-4c3f-9ff9-3a65a0ac3e02"
      },
      "source": [
        "canteen_menu"
      ],
      "execution_count": 39,
      "outputs": [
        {
          "output_type": "execute_result",
          "data": {
            "text/plain": [
              "{'burger': 75,\n",
              " 'fruits': {'apple': 40, 'kiwi': 100, 'mango': 30},\n",
              " 'juice': [20, 30, 45],\n",
              " 'pizza': 100,\n",
              " 'samosa': 10}"
            ]
          },
          "metadata": {
            "tags": []
          },
          "execution_count": 39
        }
      ]
    },
    {
      "cell_type": "code",
      "metadata": {
        "colab": {
          "base_uri": "https://localhost:8080/"
        },
        "id": "oLc87wKyfIHB",
        "outputId": "b67e1ed8-24b4-4fc2-b0b3-5b62cd557eb5"
      },
      "source": [
        "canteen_menu['fruits']['kiwi']"
      ],
      "execution_count": 40,
      "outputs": [
        {
          "output_type": "execute_result",
          "data": {
            "text/plain": [
              "100"
            ]
          },
          "metadata": {
            "tags": []
          },
          "execution_count": 40
        }
      ]
    },
    {
      "cell_type": "code",
      "metadata": {
        "colab": {
          "base_uri": "https://localhost:8080/"
        },
        "id": "U8tEaRt6fUvm",
        "outputId": "56cd5169-f8c2-4425-d421-f109d119ef25"
      },
      "source": [
        "canteen_menu.keys()"
      ],
      "execution_count": 41,
      "outputs": [
        {
          "output_type": "execute_result",
          "data": {
            "text/plain": [
              "dict_keys(['samosa', 'pizza', 'burger', 'juice', 'fruits'])"
            ]
          },
          "metadata": {
            "tags": []
          },
          "execution_count": 41
        }
      ]
    },
    {
      "cell_type": "code",
      "metadata": {
        "colab": {
          "base_uri": "https://localhost:8080/"
        },
        "id": "W8u-KNLafgwa",
        "outputId": "3d9ac916-b3bb-45b4-951c-6ff7dde7b9db"
      },
      "source": [
        "canteen_menu.values()"
      ],
      "execution_count": 42,
      "outputs": [
        {
          "output_type": "execute_result",
          "data": {
            "text/plain": [
              "dict_values([10, 100, 75, [20, 30, 45], {'mango': 30, 'apple': 40, 'kiwi': 100}])"
            ]
          },
          "metadata": {
            "tags": []
          },
          "execution_count": 42
        }
      ]
    }
  ]
}